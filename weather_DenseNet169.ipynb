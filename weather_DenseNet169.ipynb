{
  "nbformat": 4,
  "nbformat_minor": 0,
  "metadata": {
    "colab": {
      "name": "weather_DenseNet169.ipynb",
      "provenance": []
    },
    "kernelspec": {
      "name": "python3",
      "display_name": "Python 3"
    }
  },
  "cells": [
    {
      "cell_type": "code",
      "metadata": {
        "colab": {
          "base_uri": "https://localhost:8080/"
        },
        "id": "bGqbhGQ5BHhb",
        "outputId": "3f7893c8-b6be-4fc6-9211-c7e97f152931"
      },
      "source": [
        "from google.colab import drive\r\n",
        "drive.mount(\"/content/gdrive\")"
      ],
      "execution_count": null,
      "outputs": [
        {
          "output_type": "stream",
          "text": [
            "Go to this URL in a browser: https://accounts.google.com/o/oauth2/auth?client_id=947318989803-6bn6qk8qdgf4n4g3pfee6491hc0brc4i.apps.googleusercontent.com&redirect_uri=urn%3aietf%3awg%3aoauth%3a2.0%3aoob&scope=email%20https%3a%2f%2fwww.googleapis.com%2fauth%2fdocs.test%20https%3a%2f%2fwww.googleapis.com%2fauth%2fdrive%20https%3a%2f%2fwww.googleapis.com%2fauth%2fdrive.photos.readonly%20https%3a%2f%2fwww.googleapis.com%2fauth%2fpeopleapi.readonly%20https%3a%2f%2fwww.googleapis.com%2fauth%2fdrive.activity.readonly&response_type=code\n",
            "\n",
            "Enter your authorization code:\n",
            "4/1AY0e-g4j-_zqZ1BkIwpBg_4eJNPKWo8K6y588X6Kj71IRx8yjq93mwkPPXc\n",
            "Mounted at /content/gdrive\n"
          ],
          "name": "stdout"
        }
      ]
    },
    {
      "cell_type": "code",
      "metadata": {
        "id": "nzcVC88BBX2A"
      },
      "source": [
        "import numpy as np\r\n",
        "import os\r\n",
        "import cv2\r\n",
        "from tqdm import tqdm"
      ],
      "execution_count": null,
      "outputs": []
    },
    {
      "cell_type": "code",
      "metadata": {
        "id": "qxMVYhhfBaCV"
      },
      "source": [
        "from keras.models import Sequential\r\n",
        "from keras.layers import Convolution2D\r\n",
        "from keras.layers import MaxPooling2D\r\n",
        "from keras.layers import Flatten\r\n",
        "from keras.layers import Dense\r\n",
        "import tensorflow as tf"
      ],
      "execution_count": null,
      "outputs": []
    },
    {
      "cell_type": "code",
      "metadata": {
        "id": "yn3uGvKRBcC8"
      },
      "source": [
        "from tensorflow.keras.applications.densenet import DenseNet169\r\n",
        "from tensorflow.keras.applications.densenet import DenseNet201\r\n",
        "from tensorflow.keras.applications.resnet import ResNet101\r\n",
        "from tensorflow.keras.applications.vgg19 import VGG19\r\n",
        "from tensorflow.keras.applications.vgg16 import VGG16"
      ],
      "execution_count": null,
      "outputs": []
    },
    {
      "cell_type": "code",
      "metadata": {
        "id": "I6CEzkh8BeJC"
      },
      "source": [
        "from keras.preprocessing.image import ImageDataGenerator"
      ],
      "execution_count": null,
      "outputs": []
    },
    {
      "cell_type": "code",
      "metadata": {
        "colab": {
          "base_uri": "https://localhost:8080/"
        },
        "id": "NXnOJO-aBg6z",
        "outputId": "91d927f6-6c6b-478e-cb14-2ff3672d0291"
      },
      "source": [
        "DATADIR = r\"/content/gdrive/My Drive/Weather\"\r\n",
        "\r\n",
        "CATEGORIES = ['Cloudy', 'Rain', 'sunny', 'sunset']\r\n",
        "\r\n",
        "IMG_SIZE =150\r\n",
        "img_rows, img_cols = 150,150\r\n",
        "training_data = []\r\n",
        "\r\n",
        "def create_training_data():\r\n",
        "    for category in CATEGORIES:\r\n",
        "        \r\n",
        "        path = os.path.join(DATADIR,category)\r\n",
        "        class_num = CATEGORIES.index(category)\r\n",
        "        \r\n",
        "        for img in tqdm(os.listdir(path)):\r\n",
        "            try:\r\n",
        "                img_array = cv2.imread(os.path.join(path,img))\r\n",
        "                new_array = cv2.resize(img_array,(IMG_SIZE, IMG_SIZE))\r\n",
        "                training_data.append([new_array, class_num]) \r\n",
        "            except Exception as e:\r\n",
        "                pass\r\n",
        "\r\n",
        "create_training_data()\r\n",
        "\r\n",
        "print(len(training_data))\r\n",
        "\r\n",
        "X = []\r\n",
        "y = []\r\n",
        "\r\n",
        "for features,label in training_data:\r\n",
        "    X.append(features)\r\n",
        "    y.append(label)"
      ],
      "execution_count": null,
      "outputs": [
        {
          "output_type": "stream",
          "text": [
            "100%|██████████| 300/300 [01:51<00:00,  2.69it/s]\n",
            "100%|██████████| 215/215 [01:25<00:00,  2.50it/s]\n",
            "100%|██████████| 252/252 [01:33<00:00,  2.70it/s]\n",
            "100%|██████████| 358/358 [02:16<00:00,  2.62it/s]"
          ],
          "name": "stderr"
        },
        {
          "output_type": "stream",
          "text": [
            "1123\n"
          ],
          "name": "stdout"
        },
        {
          "output_type": "stream",
          "text": [
            "\n"
          ],
          "name": "stderr"
        }
      ]
    },
    {
      "cell_type": "code",
      "metadata": {
        "colab": {
          "base_uri": "https://localhost:8080/"
        },
        "id": "ncWS5wY-Bkid",
        "outputId": "c5b85d60-c69b-46c9-bd02-6ebf210d120d"
      },
      "source": [
        "X1 = np.array(X)\r\n",
        "X1.shape"
      ],
      "execution_count": null,
      "outputs": [
        {
          "output_type": "execute_result",
          "data": {
            "text/plain": [
              "(1123, 150, 150, 3)"
            ]
          },
          "metadata": {
            "tags": []
          },
          "execution_count": 8
        }
      ]
    },
    {
      "cell_type": "code",
      "metadata": {
        "colab": {
          "base_uri": "https://localhost:8080/"
        },
        "id": "1pD01v92BnGj",
        "outputId": "817e91ab-540c-4fcd-cdfd-da12058187c4"
      },
      "source": [
        "y = np.array(y)\r\n",
        "y.shape"
      ],
      "execution_count": null,
      "outputs": [
        {
          "output_type": "execute_result",
          "data": {
            "text/plain": [
              "(1123,)"
            ]
          },
          "metadata": {
            "tags": []
          },
          "execution_count": 9
        }
      ]
    },
    {
      "cell_type": "code",
      "metadata": {
        "id": "WUmTqA_PBp80"
      },
      "source": [
        "from sklearn.model_selection import train_test_split\r\n",
        "from keras.utils import np_utils\r\n",
        "\r\n",
        "X_train, X_test, y_train, y_test = train_test_split(X1, y, test_size=0.2, random_state=4)\r\n",
        "X_train = X_train.reshape(X_train.shape[0],img_rows, img_cols,3)\r\n",
        "X_test = X_test.reshape(X_test.shape[0],img_rows, img_cols,3)\r\n",
        "\r\n",
        "X_train = X_train.astype('float32')\r\n",
        "X_test = X_test.astype('float32')\r\n",
        "\r\n",
        "X_train /= 255\r\n",
        "X_test /= 255\r\n",
        "\r\n",
        "Y_train = np_utils.to_categorical(y_train, 4)\r\n",
        "Y_test = np_utils.to_categorical(y_test, 4)"
      ],
      "execution_count": null,
      "outputs": []
    },
    {
      "cell_type": "code",
      "metadata": {
        "colab": {
          "base_uri": "https://localhost:8080/"
        },
        "id": "F_OKHcYABxO4",
        "outputId": "6c87e1b9-2ce5-4436-b0b6-35680e77a326"
      },
      "source": [
        "X_test.shape"
      ],
      "execution_count": null,
      "outputs": [
        {
          "output_type": "execute_result",
          "data": {
            "text/plain": [
              "(225, 150, 150, 3)"
            ]
          },
          "metadata": {
            "tags": []
          },
          "execution_count": 11
        }
      ]
    },
    {
      "cell_type": "code",
      "metadata": {
        "colab": {
          "base_uri": "https://localhost:8080/"
        },
        "id": "1t-SB8okBzUQ",
        "outputId": "19e8f6cf-5cd4-49cb-871e-744ed2c0a626"
      },
      "source": [
        "Y_train.shape"
      ],
      "execution_count": null,
      "outputs": [
        {
          "output_type": "execute_result",
          "data": {
            "text/plain": [
              "(898, 4)"
            ]
          },
          "metadata": {
            "tags": []
          },
          "execution_count": 12
        }
      ]
    },
    {
      "cell_type": "code",
      "metadata": {
        "colab": {
          "base_uri": "https://localhost:8080/"
        },
        "id": "HfRBB2qxB3PZ",
        "outputId": "f0993538-7857-4c93-ab7c-148385d713e5"
      },
      "source": [
        "input_shape = [150, 150, 3]\r\n",
        "model = Sequential()\r\n",
        "model.add(DenseNet169(\r\n",
        "    include_top=False,\r\n",
        "    weights=None,\r\n",
        "    input_tensor=None,\r\n",
        "    input_shape=input_shape,\r\n",
        "    pooling=None,\r\n",
        "    classes=4,\r\n",
        "))\r\n",
        "model.add(Flatten())\r\n",
        "model.add(Dense(1024,activation=\"relu\"))\r\n",
        "model.add(Dense(units=4,activation=\"softmax\"))\r\n",
        "model.summary()"
      ],
      "execution_count": null,
      "outputs": [
        {
          "output_type": "stream",
          "text": [
            "Model: \"sequential\"\n",
            "_________________________________________________________________\n",
            "Layer (type)                 Output Shape              Param #   \n",
            "=================================================================\n",
            "densenet169 (Functional)     (None, 4, 4, 1664)        12642880  \n",
            "_________________________________________________________________\n",
            "flatten (Flatten)            (None, 26624)             0         \n",
            "_________________________________________________________________\n",
            "dense (Dense)                (None, 1024)              27264000  \n",
            "_________________________________________________________________\n",
            "dense_1 (Dense)              (None, 4)                 4100      \n",
            "=================================================================\n",
            "Total params: 39,910,980\n",
            "Trainable params: 39,752,580\n",
            "Non-trainable params: 158,400\n",
            "_________________________________________________________________\n"
          ],
          "name": "stdout"
        }
      ]
    },
    {
      "cell_type": "code",
      "metadata": {
        "id": "1zzBKn6vCfIA"
      },
      "source": [
        "model.compile(optimizer = 'adam', loss = 'categorical_crossentropy', metrics=['accuracy'])"
      ],
      "execution_count": null,
      "outputs": []
    },
    {
      "cell_type": "code",
      "metadata": {
        "colab": {
          "base_uri": "https://localhost:8080/"
        },
        "id": "3U0_k5oKI2LA",
        "outputId": "1f12d25e-4c3b-46da-f401-0a74251cfe4b"
      },
      "source": [
        "history=model.fit(X_train,Y_train,batch_size=32,epochs=10,verbose=1,validation_split=0.2)"
      ],
      "execution_count": null,
      "outputs": [
        {
          "output_type": "stream",
          "text": [
            "Epoch 1/10\n",
            "23/23 [==============================] - 262s 11s/step - loss: 9.9193 - accuracy: 0.4358 - val_loss: 59309.9883 - val_accuracy: 0.1667\n",
            "Epoch 2/10\n",
            "23/23 [==============================] - 244s 11s/step - loss: 2.7232 - accuracy: 0.6771 - val_loss: 1.0380 - val_accuracy: 0.6000\n",
            "Epoch 3/10\n",
            "23/23 [==============================] - 244s 11s/step - loss: 0.6156 - accuracy: 0.7516 - val_loss: 1.5430 - val_accuracy: 0.3056\n",
            "Epoch 4/10\n",
            "23/23 [==============================] - 247s 11s/step - loss: 0.5835 - accuracy: 0.7915 - val_loss: 2.3865 - val_accuracy: 0.2944\n",
            "Epoch 5/10\n",
            "23/23 [==============================] - 243s 11s/step - loss: 0.4841 - accuracy: 0.8103 - val_loss: 2.4611 - val_accuracy: 0.3000\n",
            "Epoch 6/10\n",
            "23/23 [==============================] - 245s 11s/step - loss: 0.4232 - accuracy: 0.8396 - val_loss: 2.1074 - val_accuracy: 0.3056\n",
            "Epoch 7/10\n",
            "23/23 [==============================] - 244s 11s/step - loss: 0.4001 - accuracy: 0.8455 - val_loss: 1.8198 - val_accuracy: 0.3389\n",
            "Epoch 8/10\n",
            "23/23 [==============================] - 242s 11s/step - loss: 0.3831 - accuracy: 0.8460 - val_loss: 1.9073 - val_accuracy: 0.3500\n",
            "Epoch 9/10\n",
            "23/23 [==============================] - 246s 11s/step - loss: 0.3672 - accuracy: 0.8276 - val_loss: 1.9521 - val_accuracy: 0.4722\n",
            "Epoch 10/10\n",
            "23/23 [==============================] - 242s 11s/step - loss: 0.3525 - accuracy: 0.8762 - val_loss: 1.4449 - val_accuracy: 0.5722\n"
          ],
          "name": "stdout"
        }
      ]
    },
    {
      "cell_type": "code",
      "metadata": {
        "colab": {
          "base_uri": "https://localhost:8080/"
        },
        "id": "Jh2-JxsuI5jf",
        "outputId": "c1938c67-8412-4e67-f242-3b23f58c5c93"
      },
      "source": [
        "scores =model.evaluate(X_train, Y_train, verbose=0)\r\n",
        "print(\"%s: %.2f%%\" % (model.metrics_names[1], scores[1]*100))"
      ],
      "execution_count": null,
      "outputs": [
        {
          "output_type": "stream",
          "text": [
            "accuracy: 53.45%\n"
          ],
          "name": "stdout"
        }
      ]
    },
    {
      "cell_type": "code",
      "metadata": {
        "colab": {
          "base_uri": "https://localhost:8080/"
        },
        "id": "yOrwWuGTI6DZ",
        "outputId": "a8794ee3-1498-4585-c6cf-c7dd27fa035d"
      },
      "source": [
        "model.save(\"/content/gdrive/My Drive/model/weather_densenet.h5\")\r\n",
        "print(\"Saved model to disk\")"
      ],
      "execution_count": null,
      "outputs": [
        {
          "output_type": "stream",
          "text": [
            "Saved model to disk\n"
          ],
          "name": "stdout"
        }
      ]
    }
  ]
}