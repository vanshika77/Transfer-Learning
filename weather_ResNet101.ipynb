{
  "nbformat": 4,
  "nbformat_minor": 0,
  "metadata": {
    "colab": {
      "name": "weather_ResNet101.ipynb",
      "provenance": []
    },
    "kernelspec": {
      "name": "python3",
      "display_name": "Python 3"
    }
  },
  "cells": [
    {
      "cell_type": "code",
      "metadata": {
        "colab": {
          "base_uri": "https://localhost:8080/"
        },
        "id": "jQcX5VaSH4ZE",
        "outputId": "cbecaa82-7de3-47cd-8e4c-fd78ba3a7eba"
      },
      "source": [
        "from google.colab import drive\r\n",
        "drive.mount(\"/content/gdrive\")"
      ],
      "execution_count": null,
      "outputs": [
        {
          "output_type": "stream",
          "text": [
            "Mounted at /content/gdrive\n"
          ],
          "name": "stdout"
        }
      ]
    },
    {
      "cell_type": "code",
      "metadata": {
        "id": "NC1XMUK-IDcB"
      },
      "source": [
        "import numpy as np\r\n",
        "import os\r\n",
        "import cv2\r\n",
        "from tqdm import tqdm"
      ],
      "execution_count": null,
      "outputs": []
    },
    {
      "cell_type": "code",
      "metadata": {
        "id": "qaZDP95bIFvs"
      },
      "source": [
        "from keras.models import Sequential\r\n",
        "from keras.layers import Convolution2D\r\n",
        "from keras.layers import MaxPooling2D\r\n",
        "from keras.layers import Flatten\r\n",
        "from keras.layers import Dense\r\n",
        "import tensorflow as tf"
      ],
      "execution_count": null,
      "outputs": []
    },
    {
      "cell_type": "code",
      "metadata": {
        "id": "S2rEFrKyIGMe"
      },
      "source": [
        "from tensorflow.keras.applications.densenet import DenseNet169\r\n",
        "from tensorflow.keras.applications.densenet import DenseNet201\r\n",
        "from tensorflow.keras.applications.resnet import ResNet101\r\n",
        "from tensorflow.keras.applications.vgg19 import VGG19\r\n",
        "from tensorflow.keras.applications.vgg16 import VGG16"
      ],
      "execution_count": null,
      "outputs": []
    },
    {
      "cell_type": "code",
      "metadata": {
        "id": "C13eVHUTIGiD"
      },
      "source": [
        "from keras.preprocessing.image import ImageDataGenerator"
      ],
      "execution_count": null,
      "outputs": []
    },
    {
      "cell_type": "code",
      "metadata": {
        "colab": {
          "base_uri": "https://localhost:8080/"
        },
        "id": "pDhFzwpyJS1t",
        "outputId": "c6e636f3-629d-4de1-fc4c-cedf1e36534b"
      },
      "source": [
        "DATADIR = r\"/content/gdrive/My Drive/Weather\"\r\n",
        "\r\n",
        "CATEGORIES = ['Cloudy', 'Rain', 'sunny', 'sunset']\r\n",
        "\r\n",
        "IMG_SIZE =150\r\n",
        "img_rows, img_cols = 150,150\r\n",
        "training_data = []\r\n",
        "\r\n",
        "def create_training_data():\r\n",
        "    for category in CATEGORIES:\r\n",
        "        \r\n",
        "        path = os.path.join(DATADIR,category)\r\n",
        "        class_num = CATEGORIES.index(category)\r\n",
        "        \r\n",
        "        for img in tqdm(os.listdir(path)):\r\n",
        "            try:\r\n",
        "                img_array = cv2.imread(os.path.join(path,img))\r\n",
        "                new_array = cv2.resize(img_array,(IMG_SIZE, IMG_SIZE))\r\n",
        "                training_data.append([new_array, class_num]) \r\n",
        "            except Exception as e:\r\n",
        "                pass\r\n",
        "\r\n",
        "create_training_data()\r\n",
        "\r\n",
        "print(len(training_data))\r\n",
        "\r\n",
        "X = []\r\n",
        "y = []\r\n",
        "\r\n",
        "for features,label in training_data:\r\n",
        "    X.append(features)\r\n",
        "    y.append(label)"
      ],
      "execution_count": null,
      "outputs": [
        {
          "output_type": "stream",
          "text": [
            "100%|██████████| 300/300 [01:08<00:00,  4.36it/s]\n",
            "100%|██████████| 215/215 [00:52<00:00,  4.08it/s]\n",
            "100%|██████████| 252/252 [00:53<00:00,  4.74it/s]\n",
            "100%|██████████| 358/358 [01:21<00:00,  4.39it/s]"
          ],
          "name": "stderr"
        },
        {
          "output_type": "stream",
          "text": [
            "1123\n"
          ],
          "name": "stdout"
        },
        {
          "output_type": "stream",
          "text": [
            "\n"
          ],
          "name": "stderr"
        }
      ]
    },
    {
      "cell_type": "code",
      "metadata": {
        "colab": {
          "base_uri": "https://localhost:8080/"
        },
        "id": "hjs0twNSJYoN",
        "outputId": "002a6747-826f-490f-8f2f-56fd0ac70ae9"
      },
      "source": [
        "X1 = np.array(X)\r\n",
        "X1.shape"
      ],
      "execution_count": null,
      "outputs": [
        {
          "output_type": "execute_result",
          "data": {
            "text/plain": [
              "(1123, 150, 150, 3)"
            ]
          },
          "metadata": {
            "tags": []
          },
          "execution_count": 6
        }
      ]
    },
    {
      "cell_type": "code",
      "metadata": {
        "colab": {
          "base_uri": "https://localhost:8080/"
        },
        "id": "uXi2PGAHJbjh",
        "outputId": "a756160a-aeea-4f3e-cc91-473d9e10b2c7"
      },
      "source": [
        "y = np.array(y)\r\n",
        "y.shape"
      ],
      "execution_count": null,
      "outputs": [
        {
          "output_type": "execute_result",
          "data": {
            "text/plain": [
              "(1123,)"
            ]
          },
          "metadata": {
            "tags": []
          },
          "execution_count": 7
        }
      ]
    },
    {
      "cell_type": "code",
      "metadata": {
        "id": "voRkjSrwJgj7"
      },
      "source": [
        "from sklearn.model_selection import train_test_split\r\n",
        "from keras.utils import np_utils\r\n",
        "\r\n",
        "X_train, X_test, y_train, y_test = train_test_split(X1, y, test_size=0.2, random_state=4)\r\n",
        "X_train = X_train.reshape(X_train.shape[0],img_rows, img_cols,3)\r\n",
        "X_test = X_test.reshape(X_test.shape[0],img_rows, img_cols,3)\r\n",
        "\r\n",
        "X_train = X_train.astype('float32')\r\n",
        "X_test = X_test.astype('float32')\r\n",
        "\r\n",
        "X_train /= 255\r\n",
        "X_test /= 255\r\n",
        "\r\n",
        "Y_train = np_utils.to_categorical(y_train, 4)\r\n",
        "Y_test = np_utils.to_categorical(y_test, 4)"
      ],
      "execution_count": null,
      "outputs": []
    },
    {
      "cell_type": "code",
      "metadata": {
        "colab": {
          "base_uri": "https://localhost:8080/"
        },
        "id": "x3W0ramUJlQz",
        "outputId": "36a4f640-0014-4293-fd5c-5887fde69a63"
      },
      "source": [
        "X_test.shape"
      ],
      "execution_count": null,
      "outputs": [
        {
          "output_type": "execute_result",
          "data": {
            "text/plain": [
              "(225, 150, 150, 3)"
            ]
          },
          "metadata": {
            "tags": []
          },
          "execution_count": 9
        }
      ]
    },
    {
      "cell_type": "code",
      "metadata": {
        "colab": {
          "base_uri": "https://localhost:8080/"
        },
        "id": "YKcPnGj-Jn0-",
        "outputId": "43dc64ec-c84e-4e44-f111-84486be58936"
      },
      "source": [
        "Y_train.shape"
      ],
      "execution_count": null,
      "outputs": [
        {
          "output_type": "execute_result",
          "data": {
            "text/plain": [
              "(898, 4)"
            ]
          },
          "metadata": {
            "tags": []
          },
          "execution_count": 10
        }
      ]
    },
    {
      "cell_type": "code",
      "metadata": {
        "colab": {
          "base_uri": "https://localhost:8080/"
        },
        "id": "wr__J4IjJp_7",
        "outputId": "02b71345-8ce3-425c-e841-4b48dc03bb2d"
      },
      "source": [
        "input_shape = [150, 150, 3]\r\n",
        "model = Sequential()\r\n",
        "model.add(ResNet101(\r\n",
        "    include_top=False,\r\n",
        "    weights=None,\r\n",
        "    input_tensor=None,\r\n",
        "    input_shape=input_shape,\r\n",
        "    pooling=None,\r\n",
        "    classes=4,\r\n",
        "    \r\n",
        "))\r\n",
        "model.add(Flatten())\r\n",
        "model.add(Dense(1024,activation=\"relu\"))\r\n",
        "model.add(Dense(units=4,activation=\"softmax\"))\r\n",
        "model.summary()"
      ],
      "execution_count": null,
      "outputs": [
        {
          "output_type": "stream",
          "text": [
            "Model: \"sequential_1\"\n",
            "_________________________________________________________________\n",
            "Layer (type)                 Output Shape              Param #   \n",
            "=================================================================\n",
            "resnet101 (Functional)       (None, 5, 5, 2048)        42658176  \n",
            "_________________________________________________________________\n",
            "flatten (Flatten)            (None, 51200)             0         \n",
            "_________________________________________________________________\n",
            "dense (Dense)                (None, 1024)              52429824  \n",
            "_________________________________________________________________\n",
            "dense_1 (Dense)              (None, 4)                 4100      \n",
            "=================================================================\n",
            "Total params: 95,092,100\n",
            "Trainable params: 94,986,756\n",
            "Non-trainable params: 105,344\n",
            "_________________________________________________________________\n"
          ],
          "name": "stdout"
        }
      ]
    },
    {
      "cell_type": "code",
      "metadata": {
        "id": "nEEDMBdzJ6MS"
      },
      "source": [
        "model.compile(optimizer = 'adam', loss = 'categorical_crossentropy', metrics=['accuracy'])"
      ],
      "execution_count": null,
      "outputs": []
    },
    {
      "cell_type": "code",
      "metadata": {
        "colab": {
          "base_uri": "https://localhost:8080/"
        },
        "id": "nuOPh31KKC5a",
        "outputId": "d777e2d5-596d-4c62-adb7-d62641c75b4f"
      },
      "source": [
        "history=model.fit(X_train,Y_train,batch_size=32,epochs=10,verbose=1,validation_split=0.2)"
      ],
      "execution_count": null,
      "outputs": [
        {
          "output_type": "stream",
          "text": [
            "Epoch 1/10\n",
            "23/23 [==============================] - 544s 23s/step - loss: 71.3559 - accuracy: 0.3027 - val_loss: 16.3585 - val_accuracy: 0.2889\n",
            "Epoch 2/10\n",
            "23/23 [==============================] - 525s 23s/step - loss: 1.2681 - accuracy: 0.5158 - val_loss: 1.4810 - val_accuracy: 0.2889\n",
            "Epoch 3/10\n",
            "23/23 [==============================] - 507s 22s/step - loss: 1.2273 - accuracy: 0.4807 - val_loss: 1.3928 - val_accuracy: 0.2389\n",
            "Epoch 4/10\n",
            "23/23 [==============================] - 504s 22s/step - loss: 0.9824 - accuracy: 0.5230 - val_loss: 1.4291 - val_accuracy: 0.2833\n",
            "Epoch 5/10\n",
            "23/23 [==============================] - 507s 22s/step - loss: 0.9014 - accuracy: 0.5587 - val_loss: 1.5084 - val_accuracy: 0.2833\n",
            "Epoch 6/10\n",
            "23/23 [==============================] - 508s 22s/step - loss: 0.8733 - accuracy: 0.5669 - val_loss: 1.5840 - val_accuracy: 0.2833\n",
            "Epoch 7/10\n",
            "23/23 [==============================] - 498s 22s/step - loss: 0.7872 - accuracy: 0.6322 - val_loss: 1.7658 - val_accuracy: 0.2389\n",
            "Epoch 8/10\n",
            "23/23 [==============================] - 508s 22s/step - loss: 0.7644 - accuracy: 0.6634 - val_loss: 1.7206 - val_accuracy: 0.2833\n",
            "Epoch 9/10\n",
            "23/23 [==============================] - 505s 22s/step - loss: 0.6378 - accuracy: 0.7440 - val_loss: 1.9443 - val_accuracy: 0.3111\n",
            "Epoch 10/10\n",
            "23/23 [==============================] - 504s 22s/step - loss: 0.5402 - accuracy: 0.7792 - val_loss: 1.7897 - val_accuracy: 0.3167\n"
          ],
          "name": "stdout"
        }
      ]
    },
    {
      "cell_type": "code",
      "metadata": {
        "colab": {
          "base_uri": "https://localhost:8080/"
        },
        "id": "hCncH4pbKGZP",
        "outputId": "204f3e44-afdb-4cb4-97cd-ff961330e321"
      },
      "source": [
        "scores = model.evaluate(X_train, Y_train, verbose=0)\r\n",
        "print(\"%s: %.2f%%\" % (model.metrics_names[1], scores[1]*100))"
      ],
      "execution_count": null,
      "outputs": [
        {
          "output_type": "stream",
          "text": [
            "accuracy: 30.51%\n"
          ],
          "name": "stdout"
        }
      ]
    },
    {
      "cell_type": "code",
      "metadata": {
        "colab": {
          "base_uri": "https://localhost:8080/"
        },
        "id": "KTj8EswKKJzB",
        "outputId": "17db98cf-4c5a-471f-f44a-6529fd76c419"
      },
      "source": [
        "model.save(\"/content/gdrive/My Drive/model/weather_resnet.h5\")\r\n",
        "print(\"Saved model to disk\")"
      ],
      "execution_count": null,
      "outputs": [
        {
          "output_type": "stream",
          "text": [
            "Saved model to disk\n"
          ],
          "name": "stdout"
        }
      ]
    }
  ]
}